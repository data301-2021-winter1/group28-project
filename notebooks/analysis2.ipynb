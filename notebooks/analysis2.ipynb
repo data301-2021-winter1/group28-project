{
 "cells": [
  {
   "cell_type": "markdown",
   "metadata": {},
   "source": [
    "# Ross Cooper"
   ]
  },
  {
   "cell_type": "markdown",
   "metadata": {},
   "source": [
    "## Research question/interests\r\n",
    "\r\n",
    "Briefly describe your research question or interests here."
   ]
  },
  {
   "cell_type": "code",
   "execution_count": 1,
   "metadata": {},
   "outputs": [],
   "source": [
    "import pandas as pd\n",
    "import numpy as np"
   ]
  },
  {
   "cell_type": "code",
   "execution_count": 5,
   "metadata": {},
   "outputs": [],
   "source": [
    "zomato_df = pd.read_csv(\"../data/raw/zomato.csv\", encoding=\"latin\")\n",
    "countrycode_df = pd.read_excel(\"../data/raw/Country-Code.xlsx\")\n",
    "file1 = pd.read_json(\"../data/raw/file1.json\", encoding=\"latin\")\n",
    "file2 = pd.read_json(\"../data/raw/file2.json\", encoding=\"latin\")\n",
    "file3 = pd.read_json(\"../data/raw/file3.json\", encoding=\"latin\")\n",
    "file4 = pd.read_json(\"../data/raw/file4.json\", encoding=\"latin\")\n",
    "file5 = pd.read_json(\"../data/raw/file5.json\", encoding=\"latin\")"
   ]
  },
  {
   "cell_type": "code",
   "execution_count": null,
   "metadata": {},
   "outputs": [],
   "source": []
  }
 ],
 "metadata": {
  "kernelspec": {
   "display_name": "Python 3 (ipykernel)",
   "language": "python",
   "name": "python3"
  },
  "language_info": {
   "codemirror_mode": {
    "name": "ipython",
    "version": 3
   },
   "file_extension": ".py",
   "mimetype": "text/x-python",
   "name": "python",
   "nbconvert_exporter": "python",
   "pygments_lexer": "ipython3",
   "version": "3.9.5"
  }
 },
 "nbformat": 4,
 "nbformat_minor": 4
}
