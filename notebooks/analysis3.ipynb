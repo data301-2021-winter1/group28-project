{
 "cells": [
  {
   "cell_type": "markdown",
   "metadata": {},
   "source": [
    "# Keiran Malott"
   ]
  },
  {
   "cell_type": "markdown",
   "metadata": {},
   "source": [
    "## Research question/interests\n",
    "\n",
    "Briefly describe your research question or interests here."
   ]
  },
  {
   "cell_type": "code",
   "execution_count": 1,
   "metadata": {},
   "outputs": [],
   "source": [
    "#import packages\n",
    "import pandas as pd\n",
    "\n",
    "#reading in CSVs\n",
    "zomatoCSV = pd.read_csv(\"..\\\\data\\\\raw\\\\zomato.csv\" , encoding = \"ISO-8859-1\")\n",
    "countryCodesCSV = pd.read_excel(\"..\\\\data\\\\raw\\\\Country-Code.xlsx\")\n",
    "\n",
    "#reading in json files\n",
    "json1 = pd.read_json(\"..\\\\data\\\\raw\\\\file1.json\" , encoding = \"ISO-8859-1\")\n",
    "json2 = pd.read_json(\"..\\\\data\\\\raw\\\\file2.json\" , encoding = \"ISO-8859-1\")\n",
    "json3 = pd.read_json(\"..\\\\data\\\\raw\\\\file3.json\" , encoding = \"ISO-8859-1\")\n",
    "json4 = pd.read_json(\"..\\\\data\\\\raw\\\\file4.json\" , encoding = \"ISO-8859-1\")\n",
    "json5 = pd.read_json(\"..\\\\data\\\\raw\\\\file5.json\" , encoding = \"ISO-8859-1\")"
   ]
  },
  {
   "cell_type": "code",
   "execution_count": null,
   "metadata": {},
   "outputs": [],
   "source": []
  }
 ],
 "metadata": {
  "kernelspec": {
   "display_name": "Python 3 (ipykernel)",
   "language": "python",
   "name": "python3"
  },
  "language_info": {
   "codemirror_mode": {
    "name": "ipython",
    "version": 3
   },
   "file_extension": ".py",
   "mimetype": "text/x-python",
   "name": "python",
   "nbconvert_exporter": "python",
   "pygments_lexer": "ipython3",
   "version": "3.9.5"
  }
 },
 "nbformat": 4,
 "nbformat_minor": 4
}
